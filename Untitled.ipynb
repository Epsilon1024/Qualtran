{
 "cells": [
  {
   "cell_type": "code",
   "execution_count": 1,
   "id": "5e9df935",
   "metadata": {},
   "outputs": [
    {
     "data": {
      "text/plain": [
       "Register(name='control', bitsize=1, shape=(), side=<Side.THRU: 3>)"
      ]
     },
     "execution_count": 1,
     "metadata": {},
     "output_type": "execute_result"
    }
   ],
   "source": [
    "from qualtran import Register\n",
    "\n",
    "Register('control', bitsize=1)"
   ]
  }
 ],
 "metadata": {
  "kernelspec": {
   "display_name": "Python 3 (ipykernel)",
   "language": "python",
   "name": "python3"
  },
  "language_info": {
   "codemirror_mode": {
    "name": "ipython",
    "version": 3
   },
   "file_extension": ".py",
   "mimetype": "text/x-python",
   "name": "python",
   "nbconvert_exporter": "python",
   "pygments_lexer": "ipython3",
   "version": "3.10.13"
  }
 },
 "nbformat": 4,
 "nbformat_minor": 5
}
