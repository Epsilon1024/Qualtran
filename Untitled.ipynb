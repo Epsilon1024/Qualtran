{
 "cells": [
  {
   "cell_type": "code",
   "execution_count": 6,
   "id": "1a96f9e5-2094-48ff-867b-9b98e20cf314",
   "metadata": {},
   "outputs": [],
   "source": [
    "from dev_tools.qualtran_dev_tools.bloq_report_card import get_bloq_report_card, show_bloq_report_card"
   ]
  },
  {
   "cell_type": "code",
   "execution_count": null,
   "id": "b8ce3d39-3972-42ae-b167-e4ed6241ba1c",
   "metadata": {},
   "outputs": [],
   "source": [
    "df = get_bloq_report_card()\n"
   ]
  },
  {
   "cell_type": "code",
   "execution_count": null,
   "id": "79ab63fe-1b60-4b38-a2c6-42e89c9a1293",
   "metadata": {},
   "outputs": [],
   "source": [
    "print(\"hello\")"
   ]
  },
  {
   "cell_type": "code",
   "execution_count": null,
   "id": "01f2964e-90c8-4c75-8969-f31e65557ed2",
   "metadata": {},
   "outputs": [],
   "source": []
  }
 ],
 "metadata": {
  "kernelspec": {
   "display_name": "Python 3 (ipykernel)",
   "language": "python",
   "name": "python3"
  },
  "language_info": {
   "codemirror_mode": {
    "name": "ipython",
    "version": 3
   },
   "file_extension": ".py",
   "mimetype": "text/x-python",
   "name": "python",
   "nbconvert_exporter": "python",
   "pygments_lexer": "ipython3",
   "version": "3.10.13"
  }
 },
 "nbformat": 4,
 "nbformat_minor": 5
}
