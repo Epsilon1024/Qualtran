{
 "cells": [
  {
   "cell_type": "code",
   "execution_count": null,
   "id": "c895c2c6-ff65-46f0-b6ec-2d2b36a84d1e",
   "metadata": {},
   "outputs": [],
   "source": [
    "# Put this into dev_tools\n",
    "from dev_tools.qualtran_dev_tools.bloq_report_card import get_bloq_report_card, show_bloq_report_card, record_for_bloq_example, check_bloq_example_serialize, get_bloq_examples\n",
    "from qualtran.serialization.bloq import bloqs_from_proto, bloqs_to_proto\n",
    "\n",
    "df = get_bloq_report_card()\n",
    "show_bloq_report_card(df)\n"
   ]
  },
  {
   "cell_type": "code",
   "execution_count": null,
   "id": "ca34f824-b1ab-4620-bbb9-d2c8941dc324",
   "metadata": {},
   "outputs": [],
   "source": []
  }
 ],
 "metadata": {
  "kernelspec": {
   "display_name": "Python 3 (ipykernel)",
   "language": "python",
   "name": "python3"
  },
  "language_info": {
   "codemirror_mode": {
    "name": "ipython",
    "version": 3
   },
   "file_extension": ".py",
   "mimetype": "text/x-python",
   "name": "python",
   "nbconvert_exporter": "python",
   "pygments_lexer": "ipython3",
   "version": "3.10.13"
  }
 },
 "nbformat": 4,
 "nbformat_minor": 5
}
